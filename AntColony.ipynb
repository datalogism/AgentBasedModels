{
 "cells": [
  {
   "cell_type": "markdown",
   "metadata": {},
   "source": [
    "# SOURCE\n",
    "* https://medium.com/mlearning-ai/building-an-agent-based-model-with-python-streamlit-for-ant-foraging-a74a41605d2c"
   ]
  },
  {
   "cell_type": "markdown",
   "metadata": {},
   "source": [
    "## Ant model\n",
    "- next_left()_ and _next\\_right()_: the (x, y) position that the ant would move to if it moved forward left or right.\n",
    "- left_pheromone and right_pheromone: the amount of pheromone in the (x, y) position that the ant would move into if it moved left-forward or right-forward.\n",
    "- will_move: whether or not the ant will move is determined by a tangent function. (Some of you may realize this is a popular treatment called the activation function in deep learning.)\n",
    "- lay_pheromone: The ant lays pheromone in its current Location"
   ]
  },
  {
   "cell_type": "code",
   "execution_count": 11,
   "metadata": {},
   "outputs": [],
   "source": [
    "\n",
    "import random\n",
    "import time\n",
    "import math\n",
    "import matplotlib.pyplot as plt\n",
    "\n",
    "class Ant:\n",
    "\t\"\"\"A single Ant\"\"\"\n",
    "\t\t\n",
    "\tdef __init__(self, model):\n",
    "\t\tself.model = model\n",
    "\t\tself.x = 0\n",
    "\t\tself.y = 0\n",
    "\t\tself.has_food = 0\n",
    "\t\n",
    "\tdef next_left(self):\n",
    "\t\t\"\"\"The (x, y) position of the Location the Ant \n",
    "\t\twould move to if it moved forward left.\n",
    "\t\t\"\"\"\n",
    "\t\tif not self.has_food:\n",
    "\t\t\treturn (self.x, self.y + 1)\n",
    "\t\telse:\n",
    "\t\t\treturn (self.x, self.y - 1)\n",
    "\t\n",
    "\tdef next_right(self):\n",
    "\t\t\"\"\"The (x, y) position of the Location the Ant \n",
    "\t\twould move to if it moved forward right.\n",
    "\t\t\"\"\"\n",
    "\t\tif not self.has_food:\n",
    "\t\t\treturn (self.x + 1, self.y)\n",
    "\t\telse:\n",
    "\t\t\treturn (self.x - 1, self.y)\n",
    "\t\n",
    "\tdef left_pheromone(self):\n",
    "\t\t\"\"\"The amount of pheromone in the Location that \n",
    "\t\tthe Ant\twould move into if it moved forward left.\n",
    "\t\t\"\"\"\n",
    "\t\treturn self.model.get_pheromone(self.next_left())\n",
    "\t\n",
    "\tdef right_pheromone(self):\n",
    "\t\t\"\"\"The amount of pheromone in the Location that \n",
    "\t\tthe Ant\twould move into if it moved forward right.\n",
    "\t\t\"\"\"\n",
    "\t\treturn self.model.get_pheromone(self.next_right())\n",
    "\t\n",
    "\tdef will_move(self):\n",
    "\t\t\"\"\"Whether or not this Ant will move this turn.\"\"\"\n",
    "\t\tif self.model.at_capacity(self.next_left()) and \\\n",
    "\t\t\tself.model.at_capacity(self.next_right()):\n",
    "\t\t\treturn False\n",
    "\t\tp_l = self.left_pheromone()\n",
    "\t\tp_r = self.right_pheromone()\n",
    "\t\tprob_move = 0.5 + 0.5*math.tanh((p_l + p_r) / 100.0 - 1)\n",
    "\t\treturn random.random() < prob_move\n",
    "\n",
    "\tdef will_go_right(self):\n",
    "\t\t\"\"\"Whether or not this Ant will move forward right\n",
    "\t\tthis turn.\n",
    "\t\t\"\"\"\n",
    "\t\tp_l = self.left_pheromone()\n",
    "\t\tp_r = self.right_pheromone()\n",
    "\n",
    "\t\tif self.model.at_capacity(self.next_right()):\n",
    "\t\t\treturn False\n",
    "\n",
    "\t\tif self.model.at_capacity(self.next_left()):\n",
    "\t\t\treturn True\n",
    "\n",
    "\t\tprob_right = (1 - (5 + p_l)**2 / \n",
    "\t\t\t      float((5 + p_l)**2 + (5 + p_r)**2))\n",
    "\n",
    "\t\treturn random.random() < prob_right\n",
    "\t\t\n",
    "\tdef move(self):\n",
    "\t\t\"\"\"Moves this Ant.\"\"\"\n",
    "\t\tif not self.will_move(): \n",
    "\t\t\treturn\n",
    "\t\tif self.will_go_right():\n",
    "\t\t\t(self.x, self.y) = self.next_right()\n",
    "\t\telse:\n",
    "\t\t\t(self.x, self.y) = self.next_left()\n",
    "\t\tself.lay_pheromone()\n",
    "\t\tpos = (self.x, self.y)\n",
    "\t\tif pos == (0, 0):\n",
    "\t\t\tself.has_food = False\n",
    "\t\telse:\n",
    "\t\t\tif self.model.has_food(pos) and not self.has_food:\n",
    "\t\t\t\tself.model.remove_food(pos)\n",
    "\t\t\t\tself.has_food = True\n",
    "\n",
    "\tdef lay_pheromone(self):\n",
    "\t\t\"\"\"This Ant lays pheromone in its current Location.\"\"\"\n",
    "\t\tpos = (self.x, self.y)\n",
    "\t\tcurrent = self.model.get_pheromone(pos)\n",
    "\t\tif not self.has_food:\n",
    "\t\t\tlimit = 1000\n",
    "\t\t\tamount = 1\n",
    "\t\telse:\n",
    "\t\t\tlimit = 300\n",
    "\t\t\tamount = 10\n",
    "\t\tif current >= limit: \n",
    "\t\t\treturn\n",
    "\t\tnew_amount = min(current + amount, limit)\n",
    "\t\tself.model.set_pheromone(pos, new_amount)\n",
    "\n"
   ]
  },
  {
   "cell_type": "markdown",
   "metadata": {},
   "source": [
    "## Model class\n",
    "- add_ants(): add ants at the nest\n",
    "- move_ants(): move all ants in each time step\n",
    "- evaporate_pheromone(): evaporate some pheromones\n",
    "- has_food(), get_location(), and num_ants(): these small functions just to obtain information.    add_ants(): add ants at the nest\n",
    "- move_ants(): move all ants in each time step\n",
    "- evaporate_pheromone(): evaporate some pheromones\n",
    "- has_food(), get_location(), and num_ants(): these small functions just to obtain information."
   ]
  },
  {
   "cell_type": "code",
   "execution_count": 12,
   "metadata": {},
   "outputs": [],
   "source": [
    "class Location:\n",
    "\t\"\"\"The grid recording the food and pheromone.\"\"\"\n",
    "\t\n",
    "\tdef __init__(self):\n",
    "\t\tself.food = 0\n",
    "\t\tself.pheromone = 0\n",
    "\t\t\n",
    "\tdef place_food(self, p):\n",
    "\t\t\"\"\"Place food with probability p into this Location.\"\"\"\n",
    "\t\tif random.random() < p:\n",
    "\t\t\tself.food = 1\n",
    "\n",
    "\tdef has_food(self):\n",
    "\t\t\"\"\"Returns True if this Location has at least 1 food in it,\n",
    "\t\tFalse otherwise.\n",
    "\t\t\"\"\"\n",
    "\t\treturn self.food > 0\n",
    "\t\n",
    "\tdef remove_food(self):\n",
    "\t\t\"\"\"Remove one food from this Location. Crashes if there is\n",
    "\t\tno food in this Location.\n",
    "\t\t\"\"\"\n",
    "\t\tassert(self.has_food)\n",
    "\t\tself.food -= 1\n",
    "\t\n",
    "\tdef add_pheromone(self, amount=1):\n",
    "\t\t\"\"\"Add pheromone to this Location.\"\"\"\n",
    "\t\tself.pheromone += amount\n",
    "\t\n",
    "\tdef set_pheromone(self, amount):\n",
    "\t\t\"\"\"Set the pheromone in this Location to amount.\"\"\"\n",
    "\t\tself.pheromone = amount\n",
    "\t\n",
    "\tdef get_pheromone(self):\n",
    "\t\t\"\"\"Returns the amount of pheromone in this Location.\"\"\"\n",
    "\t\treturn self.pheromone\n",
    "\t\t\n",
    "\tdef evaporate_pheromone(self):\n",
    "\t\t\"\"\"Evaporates 1/30 of the pheromone in this Location.\"\"\"\n",
    "\t\tself.pheromone -= self.pheromone * (1.0 / 30)\n",
    "\t\n",
    "\n",
    "class Model:\n",
    "\t\"\"\"Class that represents the room the robot ants live in\t\"\"\"\n",
    "\t\n",
    "\tMAX_ANTS = 200\n",
    "\t\n",
    "\tdef __init__(self):\n",
    "\t\tself.ants = {}\n",
    "\t\tself.locations = {}\n",
    "\t\tself.p_food = 0\n",
    "\t\n",
    "\tdef place_food(self, p):\n",
    "\t\t\"\"\"Place food in all Locations with probability p.\"\"\"\n",
    "\t\tself.p_food = p\n",
    "\t\tfor point in self.locations:\n",
    "\t\t\tpoint.place_food(p)\n",
    "\t\n",
    "\tdef remove_food(self, pos):\n",
    "\t\t\"\"\"Remove one unit of food from the Location at pos.\"\"\"\n",
    "\t\tself.locations[pos].remove_food();\n",
    "\t\n",
    "\tdef has_food(self, pos):\n",
    "\t\t\"\"\"Returns true if the Location at pos has at least one unit\n",
    "\t\tof food, false otherwise.\n",
    "\t\t\"\"\"\n",
    "\t\treturn self.get_location(pos).has_food();\n",
    "\t\n",
    "\tdef add_ants(self, n):\n",
    "\t\t\"\"\"Add n ants to the nest. Each ant starts at (0,0)\"\"\"\n",
    "\t\tfor i in range(n):\n",
    "\t\t\tant = Ant(self)\n",
    "\t\t\tpos = (ant.x, ant.y) \n",
    "\t\t\tif pos in self.ants:\n",
    "\t\t\t\tself.ants[pos].append(ant)\n",
    "\t\t\telse:\n",
    "\t\t\t\tself.ants[pos] = [ant]\n",
    "\t\n",
    "\tdef __repr__(self):\n",
    "\t\t\"\"\"Return a string representation of this room.\"\"\"\n",
    "\t\treturn str(self.ants)\n",
    "\t\n",
    "\tdef move_ants(self):\n",
    "\t\t\"\"\"Iterate through and move all the Ants in the room.\"\"\"\n",
    "\t\tants = []\n",
    "\t\tfor pos, antlist in self.ants.items():\n",
    "\t\t\tfor ant in antlist:\n",
    "\t\t\t\tant.move()\n",
    "\t\t\t\tants.append(ant)\n",
    "\t\tself.evaporate_pheromone()\n",
    "\t\td = {}\n",
    "\t\tfor ant in ants:\n",
    "\t\t\tpos = (ant.x, ant.y)\n",
    "\t\t\tif pos in d:\n",
    "\t\t\t\td[pos].append(ant)\n",
    "\t\t\telse:\n",
    "\t\t\t\td[pos] = [ant]\n",
    "\t\tself.ants = d\n",
    "\t\n",
    "\tdef get_location(self, pos):\n",
    "\t\t\"\"\"Returns the Location at pos, creating it if it doesn't \n",
    "\t\talready exist.\n",
    "\t\t\"\"\"\n",
    "\t\tif pos not in self.locations:\n",
    "\t\t\tloc = Location()\n",
    "\t\t\tself.locations[pos] = loc\n",
    "\t\t\tif self.p_food > 0:\n",
    "\t\t\t\tloc.place_food(self.p_food)\n",
    "\t\telse: \n",
    "\t\t\tloc = self.locations[pos]\n",
    "\t\treturn loc\n",
    "\t\n",
    "\tdef add_pheromone(self, pos, amount=1):\n",
    "\t\t\"\"\"Adds amount pheromone to the Location at pos.\"\"\"\n",
    "\t\tself.get_location(pos).add_pheromone(amount)\n",
    "\t\n",
    "\tdef get_pheromone(self, pos):\n",
    "\t\t\"\"\"Returns the amount of pheromone in the Location at pos.\"\"\"\n",
    "\t\treturn self.get_location(pos).get_pheromone();\n",
    "\t\n",
    "\tdef set_pheromone(self, pos, amount):\n",
    "\t\t\"\"\"Sets the amount of pheromone in the Location at pos to\n",
    "\t\tamount.\n",
    "\t\t\"\"\"\n",
    "\t\tself.get_location(pos).set_pheromone(amount)\n",
    "\t\n",
    "\tdef evaporate_pheromone(self):\n",
    "\t\t\"\"\"Evaporates pheromone from all existing Locations.\"\"\"\n",
    "\t\tfor pos, loc in self.locations.items():\n",
    "\t\t\tloc.evaporate_pheromone()\n",
    "\t\n",
    "\tdef num_ants(self, pos):\n",
    "\t\t\"\"\"Returns the number of Ants at pos.\"\"\"\n",
    "\t\tif pos in self.ants:\n",
    "\t\t\treturn len(self.ants[pos])\n",
    "\t\telse: return 0\n",
    "\n",
    "\tdef at_capacity(self, pos):\n",
    "\t\t\"\"\"Returns True if the Location at pos is full with Ants,\n",
    "\t\tFalse otherwise.\n",
    "\t\t\"\"\"\n",
    "\t\treturn self.num_ants(pos) >= Model.MAX_ANTS"
   ]
  },
  {
   "cell_type": "markdown",
   "metadata": {},
   "source": [
    "## MAIN programm"
   ]
  },
  {
   "cell_type": "code",
   "execution_count": 24,
   "metadata": {},
   "outputs": [
    {
     "name": "stdout",
     "output_type": "stream",
     "text": [
      "<bound method Model.__repr__ of {(2, 2): [<__main__.Ant object at 0x0000015B301B1438>, <__main__.Ant object at 0x0000015B335A9E80>, <__main__.Ant object at 0x0000015B223FFC50>, <__main__.Ant object at 0x0000015B2241A390>, <__main__.Ant object at 0x0000015B223FF7B8>, <__main__.Ant object at 0x0000015B223FFE48>, <__main__.Ant object at 0x0000015B301B1A20>, <__main__.Ant object at 0x0000015B2241A208>, <__main__.Ant object at 0x0000015B2241AF98>, <__main__.Ant object at 0x0000015B2241A8D0>, <__main__.Ant object at 0x0000015B2241ACC0>, <__main__.Ant object at 0x0000015B2241AF60>, <__main__.Ant object at 0x0000015B223FF2B0>, <__main__.Ant object at 0x0000015B223FF6D8>, <__main__.Ant object at 0x0000015B223FFF28>], (3, 2): [<__main__.Ant object at 0x0000015B223FF6A0>, <__main__.Ant object at 0x0000015B2241A550>, <__main__.Ant object at 0x0000015B223FFA20>, <__main__.Ant object at 0x0000015B223FFDA0>, <__main__.Ant object at 0x0000015B301B1160>, <__main__.Ant object at 0x0000015B2241A710>, <__main__.Ant object at 0x0000015B2241ADA0>, <__main__.Ant object at 0x0000015B3355D9B0>, <__main__.Ant object at 0x0000015B2241A9E8>, <__main__.Ant object at 0x0000015B33540748>, <__main__.Ant object at 0x0000015B2241A400>, <__main__.Ant object at 0x0000015B2241A320>, <__main__.Ant object at 0x0000015B223FF668>], (1, 2): [<__main__.Ant object at 0x0000015B223FF5F8>, <__main__.Ant object at 0x0000015B223FF0B8>, <__main__.Ant object at 0x0000015B223FF898>, <__main__.Ant object at 0x0000015B223FFC18>, <__main__.Ant object at 0x0000015B3355D240>, <__main__.Ant object at 0x0000015B223FF048>, <__main__.Ant object at 0x0000015B223FFA58>, <__main__.Ant object at 0x0000015B223FFE10>, <__main__.Ant object at 0x0000015B223FFBE0>, <__main__.Ant object at 0x0000015B2241A748>, <__main__.Ant object at 0x0000015B223FF550>, <__main__.Ant object at 0x0000015B223FF198>, <__main__.Ant object at 0x0000015B223FF400>], (0, 2): [<__main__.Ant object at 0x0000015B3355D208>, <__main__.Ant object at 0x0000015B301B1748>, <__main__.Ant object at 0x0000015B2241A198>, <__main__.Ant object at 0x0000015B223FF7F0>, <__main__.Ant object at 0x0000015B223FFE80>, <__main__.Ant object at 0x0000015B301B14A8>, <__main__.Ant object at 0x0000015B223FF710>, <__main__.Ant object at 0x0000015B223FF828>, <__main__.Ant object at 0x0000015B223FF4A8>, <__main__.Ant object at 0x0000015B223FF780>, <__main__.Ant object at 0x0000015B223FF5C0>, <__main__.Ant object at 0x0000015B223FFF98>, <__main__.Ant object at 0x0000015B223FF358>, <__main__.Ant object at 0x0000015B233E17B8>], (3, 3): [<__main__.Ant object at 0x0000015B301B1940>, <__main__.Ant object at 0x0000015B2241AE80>, <__main__.Ant object at 0x0000015B2241A9B0>, <__main__.Ant object at 0x0000015B2241A7B8>, <__main__.Ant object at 0x0000015B2241A630>, <__main__.Ant object at 0x0000015B223FF390>, <__main__.Ant object at 0x0000015B301B1198>, <__main__.Ant object at 0x0000015B2241A470>, <__main__.Ant object at 0x0000015B2241A7F0>, <__main__.Ant object at 0x0000015B2241A4A8>], (0, 0): [<__main__.Ant object at 0x0000015B301B17B8>, <__main__.Ant object at 0x0000015B223FFC88>, <__main__.Ant object at 0x0000015B233E1BE0>, <__main__.Ant object at 0x0000015B233E10F0>], (0, 1): [<__main__.Ant object at 0x0000015B223FF908>, <__main__.Ant object at 0x0000015B223FFA90>, <__main__.Ant object at 0x0000015B223FF208>, <__main__.Ant object at 0x0000015B223FF588>, <__main__.Ant object at 0x0000015B223FFB38>], (2, 3): [<__main__.Ant object at 0x0000015B301B1780>, <__main__.Ant object at 0x0000015B2241A978>, <__main__.Ant object at 0x0000015B2241AEF0>], (3, 4): [<__main__.Ant object at 0x0000015B2241ACF8>, <__main__.Ant object at 0x0000015B301B17F0>, <__main__.Ant object at 0x0000015B2241A0B8>], (4, 3): [<__main__.Ant object at 0x0000015B2241A5C0>, <__main__.Ant object at 0x0000015B2241ABE0>, <__main__.Ant object at 0x0000015B301B14E0>, <__main__.Ant object at 0x0000015B2241AEB8>], (4, 2): [<__main__.Ant object at 0x0000015B301B18D0>], (4, 4): [<__main__.Ant object at 0x0000015B301B1710>], (1, 3): [<__main__.Ant object at 0x0000015B223FFFD0>], (0, 4): [<__main__.Ant object at 0x0000015B301B16D8>], (1, 4): [<__main__.Ant object at 0x0000015B2241A278>], (2, 1): [<__main__.Ant object at 0x0000015B2241AD30>, <__main__.Ant object at 0x0000015B223FF4E0>, <__main__.Ant object at 0x0000015B223FF2E8>, <__main__.Ant object at 0x0000015B2241A2B0>], (2, 0): [<__main__.Ant object at 0x0000015B223FF518>, <__main__.Ant object at 0x0000015B223FF1D0>], (1, 0): [<__main__.Ant object at 0x0000015B301B15C0>], (3, 0): [<__main__.Ant object at 0x0000015B301B1828>], (-2, 0): [<__main__.Ant object at 0x0000015B301B1630>], (-2, -4): [<__main__.Ant object at 0x0000015B301B19E8>], (-1, -6): [<__main__.Ant object at 0x0000015B301B16A0>]}>\n"
     ]
    }
   ],
   "source": [
    "model = Model()\n",
    "model.place_food(0.7)\n",
    "timesteps = 50\n",
    "for i in range(timesteps):\n",
    "        model.add_ants(2)\n",
    "        model.move_ants()\n",
    "positions = model.ants\n",
    "print(model. __repr__)\n"
   ]
  },
  {
   "cell_type": "code",
   "execution_count": 23,
   "metadata": {},
   "outputs": [
    {
     "data": {
      "image/png": "[encoded data removed]",
      "text/plain": [
       "<Figure size 432x288 with 1 Axes>"
      ]
     },
     "metadata": {
      "needs_background": "light"
     },
     "output_type": "display_data"
    },
    {
     "data": {
      "text/plain": [
       "<Figure size 432x288 with 0 Axes>"
      ]
     },
     "metadata": {},
     "output_type": "display_data"
    },
    {
     "data": {
      "text/plain": [
       "<Figure size 432x288 with 0 Axes>"
      ]
     },
     "metadata": {},
     "output_type": "display_data"
    },
    {
     "data": {
      "text/plain": [
       "<Figure size 432x288 with 0 Axes>"
      ]
     },
     "metadata": {},
     "output_type": "display_data"
    },
    {
     "data": {
      "text/plain": [
       "<Figure size 432x288 with 0 Axes>"
      ]
     },
     "metadata": {},
     "output_type": "display_data"
    },
    {
     "data": {
      "text/plain": [
       "<Figure size 432x288 with 0 Axes>"
      ]
     },
     "metadata": {},
     "output_type": "display_data"
    },
    {
     "data": {
      "text/plain": [
       "<Figure size 432x288 with 0 Axes>"
      ]
     },
     "metadata": {},
     "output_type": "display_data"
    },
    {
     "data": {
      "text/plain": [
       "<Figure size 432x288 with 0 Axes>"
      ]
     },
     "metadata": {},
     "output_type": "display_data"
    },
    {
     "data": {
      "text/plain": [
       "<Figure size 432x288 with 0 Axes>"
      ]
     },
     "metadata": {},
     "output_type": "display_data"
    },
    {
     "data": {
      "text/plain": [
       "<Figure size 432x288 with 0 Axes>"
      ]
     },
     "metadata": {},
     "output_type": "display_data"
    },
    {
     "data": {
      "text/plain": [
       "<Figure size 432x288 with 0 Axes>"
      ]
     },
     "metadata": {},
     "output_type": "display_data"
    },
    {
     "data": {
      "text/plain": [
       "<Figure size 432x288 with 0 Axes>"
      ]
     },
     "metadata": {},
     "output_type": "display_data"
    },
    {
     "data": {
      "text/plain": [
       "<Figure size 432x288 with 0 Axes>"
      ]
     },
     "metadata": {},
     "output_type": "display_data"
    },
    {
     "data": {
      "text/plain": [
       "<Figure size 432x288 with 0 Axes>"
      ]
     },
     "metadata": {},
     "output_type": "display_data"
    },
    {
     "data": {
      "text/plain": [
       "<Figure size 432x288 with 0 Axes>"
      ]
     },
     "metadata": {},
     "output_type": "display_data"
    },
    {
     "data": {
      "text/plain": [
       "<Figure size 432x288 with 0 Axes>"
      ]
     },
     "metadata": {},
     "output_type": "display_data"
    },
    {
     "data": {
      "text/plain": [
       "<Figure size 432x288 with 0 Axes>"
      ]
     },
     "metadata": {},
     "output_type": "display_data"
    },
    {
     "data": {
      "text/plain": [
       "<Figure size 432x288 with 0 Axes>"
      ]
     },
     "metadata": {},
     "output_type": "display_data"
    }
   ],
   "source": [
    "xdata = []\n",
    "ydata = []\n",
    "plt.show() \n",
    "axes = plt.gca()\n",
    "axes.set_xlim(0, 30)\n",
    "axes.set_ylim(0, 30)\n",
    "line, = axes.plot(xdata, ydata, 'gx') # A green mark for an ant\n",
    "\n",
    "\n",
    "for pos in positions:\n",
    "    x, y = pos\n",
    "    xdata.append(x)\n",
    "    ydata.append(y)\n",
    "    line.set_xdata(xdata)\n",
    "    line.set_ydata(ydata)\n",
    "    plt.draw()\n",
    "    plt.pause(1e-17)\n",
    "    #time.sleep(0.005)\n",
    "plt.show()"
   ]
  }
 ],
 "metadata": {
  "kernelspec": {
   "display_name": "Python 3",
   "language": "python",
   "name": "python3"
  },
  "language_info": {
   "codemirror_mode": {
    "name": "ipython",
    "version": 3
   },
   "file_extension": ".py",
   "mimetype": "text/x-python",
   "name": "python",
   "nbconvert_exporter": "python",
   "pygments_lexer": "ipython3",
   "version": "3.7.0"
  }
 },
 "nbformat": 4,
 "nbformat_minor": 4
}
