{
 "cells": [
  {
   "cell_type": "markdown",
   "metadata": {},
   "source": [
    "Ce notebook construit et analyse le réseau de sénateurs dans lequel deux sénateurs sont connectés s'ils sont membres ce la même commission. Vous allez faire le même travail sur les députés"
   ]
  },
  {
   "cell_type": "code",
   "execution_count": 5,
   "metadata": {},
   "outputs": [],
   "source": [
    "import urllib.request\n",
    "import json\n",
    "import matplotlib.pyplot as plt\n",
    "import networkx as nx\n",
    "%matplotlib inline"
   ]
  },
  {
   "cell_type": "markdown",
   "metadata": {},
   "source": [
    "# Récupération des données"
   ]
  },
  {
   "cell_type": "markdown",
   "metadata": {},
   "source": [
    "## Liste des commissions"
   ]
  },
  {
   "cell_type": "code",
   "execution_count": 2,
   "metadata": {},
   "outputs": [],
   "source": [
    "urlAPI='https://www.nossenateurs.fr/organismes/parlementaire/json'"
   ]
  },
  {
   "cell_type": "code",
   "execution_count": 3,
   "metadata": {},
   "outputs": [
    {
     "ename": "URLError",
     "evalue": "<urlopen error [Errno 11001] getaddrinfo failed>",
     "output_type": "error",
     "traceback": [
      "\u001b[1;31m---------------------------------------------------------------------------\u001b[0m",
      "\u001b[1;31mgaierror\u001b[0m                                  Traceback (most recent call last)",
      "\u001b[1;32m~\\AppData\\Local\\Continuum\\anaconda3\\lib\\urllib\\request.py\u001b[0m in \u001b[0;36mdo_open\u001b[1;34m(self, http_class, req, **http_conn_args)\u001b[0m\n\u001b[0;32m   1316\u001b[0m                 h.request(req.get_method(), req.selector, req.data, headers,\n\u001b[1;32m-> 1317\u001b[1;33m                           encode_chunked=req.has_header('Transfer-encoding'))\n\u001b[0m\u001b[0;32m   1318\u001b[0m             \u001b[1;32mexcept\u001b[0m \u001b[0mOSError\u001b[0m \u001b[1;32mas\u001b[0m \u001b[0merr\u001b[0m\u001b[1;33m:\u001b[0m \u001b[1;31m# timeout error\u001b[0m\u001b[1;33m\u001b[0m\u001b[0m\n",
      "\u001b[1;32m~\\AppData\\Local\\Continuum\\anaconda3\\lib\\http\\client.py\u001b[0m in \u001b[0;36mrequest\u001b[1;34m(self, method, url, body, headers, encode_chunked)\u001b[0m\n\u001b[0;32m   1228\u001b[0m         \u001b[1;34m\"\"\"Send a complete request to the server.\"\"\"\u001b[0m\u001b[1;33m\u001b[0m\u001b[0m\n\u001b[1;32m-> 1229\u001b[1;33m         \u001b[0mself\u001b[0m\u001b[1;33m.\u001b[0m\u001b[0m_send_request\u001b[0m\u001b[1;33m(\u001b[0m\u001b[0mmethod\u001b[0m\u001b[1;33m,\u001b[0m \u001b[0murl\u001b[0m\u001b[1;33m,\u001b[0m \u001b[0mbody\u001b[0m\u001b[1;33m,\u001b[0m \u001b[0mheaders\u001b[0m\u001b[1;33m,\u001b[0m \u001b[0mencode_chunked\u001b[0m\u001b[1;33m)\u001b[0m\u001b[1;33m\u001b[0m\u001b[0m\n\u001b[0m\u001b[0;32m   1230\u001b[0m \u001b[1;33m\u001b[0m\u001b[0m\n",
      "\u001b[1;32m~\\AppData\\Local\\Continuum\\anaconda3\\lib\\http\\client.py\u001b[0m in \u001b[0;36m_send_request\u001b[1;34m(self, method, url, body, headers, encode_chunked)\u001b[0m\n\u001b[0;32m   1274\u001b[0m             \u001b[0mbody\u001b[0m \u001b[1;33m=\u001b[0m \u001b[0m_encode\u001b[0m\u001b[1;33m(\u001b[0m\u001b[0mbody\u001b[0m\u001b[1;33m,\u001b[0m \u001b[1;34m'body'\u001b[0m\u001b[1;33m)\u001b[0m\u001b[1;33m\u001b[0m\u001b[0m\n\u001b[1;32m-> 1275\u001b[1;33m         \u001b[0mself\u001b[0m\u001b[1;33m.\u001b[0m\u001b[0mendheaders\u001b[0m\u001b[1;33m(\u001b[0m\u001b[0mbody\u001b[0m\u001b[1;33m,\u001b[0m \u001b[0mencode_chunked\u001b[0m\u001b[1;33m=\u001b[0m\u001b[0mencode_chunked\u001b[0m\u001b[1;33m)\u001b[0m\u001b[1;33m\u001b[0m\u001b[0m\n\u001b[0m\u001b[0;32m   1276\u001b[0m \u001b[1;33m\u001b[0m\u001b[0m\n",
      "\u001b[1;32m~\\AppData\\Local\\Continuum\\anaconda3\\lib\\http\\client.py\u001b[0m in \u001b[0;36mendheaders\u001b[1;34m(self, message_body, encode_chunked)\u001b[0m\n\u001b[0;32m   1223\u001b[0m             \u001b[1;32mraise\u001b[0m \u001b[0mCannotSendHeader\u001b[0m\u001b[1;33m(\u001b[0m\u001b[1;33m)\u001b[0m\u001b[1;33m\u001b[0m\u001b[0m\n\u001b[1;32m-> 1224\u001b[1;33m         \u001b[0mself\u001b[0m\u001b[1;33m.\u001b[0m\u001b[0m_send_output\u001b[0m\u001b[1;33m(\u001b[0m\u001b[0mmessage_body\u001b[0m\u001b[1;33m,\u001b[0m \u001b[0mencode_chunked\u001b[0m\u001b[1;33m=\u001b[0m\u001b[0mencode_chunked\u001b[0m\u001b[1;33m)\u001b[0m\u001b[1;33m\u001b[0m\u001b[0m\n\u001b[0m\u001b[0;32m   1225\u001b[0m \u001b[1;33m\u001b[0m\u001b[0m\n",
      "\u001b[1;32m~\\AppData\\Local\\Continuum\\anaconda3\\lib\\http\\client.py\u001b[0m in \u001b[0;36m_send_output\u001b[1;34m(self, message_body, encode_chunked)\u001b[0m\n\u001b[0;32m   1015\u001b[0m         \u001b[1;32mdel\u001b[0m \u001b[0mself\u001b[0m\u001b[1;33m.\u001b[0m\u001b[0m_buffer\u001b[0m\u001b[1;33m[\u001b[0m\u001b[1;33m:\u001b[0m\u001b[1;33m]\u001b[0m\u001b[1;33m\u001b[0m\u001b[0m\n\u001b[1;32m-> 1016\u001b[1;33m         \u001b[0mself\u001b[0m\u001b[1;33m.\u001b[0m\u001b[0msend\u001b[0m\u001b[1;33m(\u001b[0m\u001b[0mmsg\u001b[0m\u001b[1;33m)\u001b[0m\u001b[1;33m\u001b[0m\u001b[0m\n\u001b[0m\u001b[0;32m   1017\u001b[0m \u001b[1;33m\u001b[0m\u001b[0m\n",
      "\u001b[1;32m~\\AppData\\Local\\Continuum\\anaconda3\\lib\\http\\client.py\u001b[0m in \u001b[0;36msend\u001b[1;34m(self, data)\u001b[0m\n\u001b[0;32m    955\u001b[0m             \u001b[1;32mif\u001b[0m \u001b[0mself\u001b[0m\u001b[1;33m.\u001b[0m\u001b[0mauto_open\u001b[0m\u001b[1;33m:\u001b[0m\u001b[1;33m\u001b[0m\u001b[0m\n\u001b[1;32m--> 956\u001b[1;33m                 \u001b[0mself\u001b[0m\u001b[1;33m.\u001b[0m\u001b[0mconnect\u001b[0m\u001b[1;33m(\u001b[0m\u001b[1;33m)\u001b[0m\u001b[1;33m\u001b[0m\u001b[0m\n\u001b[0m\u001b[0;32m    957\u001b[0m             \u001b[1;32melse\u001b[0m\u001b[1;33m:\u001b[0m\u001b[1;33m\u001b[0m\u001b[0m\n",
      "\u001b[1;32m~\\AppData\\Local\\Continuum\\anaconda3\\lib\\http\\client.py\u001b[0m in \u001b[0;36mconnect\u001b[1;34m(self)\u001b[0m\n\u001b[0;32m   1383\u001b[0m \u001b[1;33m\u001b[0m\u001b[0m\n\u001b[1;32m-> 1384\u001b[1;33m             \u001b[0msuper\u001b[0m\u001b[1;33m(\u001b[0m\u001b[1;33m)\u001b[0m\u001b[1;33m.\u001b[0m\u001b[0mconnect\u001b[0m\u001b[1;33m(\u001b[0m\u001b[1;33m)\u001b[0m\u001b[1;33m\u001b[0m\u001b[0m\n\u001b[0m\u001b[0;32m   1385\u001b[0m \u001b[1;33m\u001b[0m\u001b[0m\n",
      "\u001b[1;32m~\\AppData\\Local\\Continuum\\anaconda3\\lib\\http\\client.py\u001b[0m in \u001b[0;36mconnect\u001b[1;34m(self)\u001b[0m\n\u001b[0;32m    927\u001b[0m         self.sock = self._create_connection(\n\u001b[1;32m--> 928\u001b[1;33m             (self.host,self.port), self.timeout, self.source_address)\n\u001b[0m\u001b[0;32m    929\u001b[0m         \u001b[0mself\u001b[0m\u001b[1;33m.\u001b[0m\u001b[0msock\u001b[0m\u001b[1;33m.\u001b[0m\u001b[0msetsockopt\u001b[0m\u001b[1;33m(\u001b[0m\u001b[0msocket\u001b[0m\u001b[1;33m.\u001b[0m\u001b[0mIPPROTO_TCP\u001b[0m\u001b[1;33m,\u001b[0m \u001b[0msocket\u001b[0m\u001b[1;33m.\u001b[0m\u001b[0mTCP_NODELAY\u001b[0m\u001b[1;33m,\u001b[0m \u001b[1;36m1\u001b[0m\u001b[1;33m)\u001b[0m\u001b[1;33m\u001b[0m\u001b[0m\n",
      "\u001b[1;32m~\\AppData\\Local\\Continuum\\anaconda3\\lib\\socket.py\u001b[0m in \u001b[0;36mcreate_connection\u001b[1;34m(address, timeout, source_address)\u001b[0m\n\u001b[0;32m    706\u001b[0m     \u001b[0merr\u001b[0m \u001b[1;33m=\u001b[0m \u001b[1;32mNone\u001b[0m\u001b[1;33m\u001b[0m\u001b[0m\n\u001b[1;32m--> 707\u001b[1;33m     \u001b[1;32mfor\u001b[0m \u001b[0mres\u001b[0m \u001b[1;32min\u001b[0m \u001b[0mgetaddrinfo\u001b[0m\u001b[1;33m(\u001b[0m\u001b[0mhost\u001b[0m\u001b[1;33m,\u001b[0m \u001b[0mport\u001b[0m\u001b[1;33m,\u001b[0m \u001b[1;36m0\u001b[0m\u001b[1;33m,\u001b[0m \u001b[0mSOCK_STREAM\u001b[0m\u001b[1;33m)\u001b[0m\u001b[1;33m:\u001b[0m\u001b[1;33m\u001b[0m\u001b[0m\n\u001b[0m\u001b[0;32m    708\u001b[0m         \u001b[0maf\u001b[0m\u001b[1;33m,\u001b[0m \u001b[0msocktype\u001b[0m\u001b[1;33m,\u001b[0m \u001b[0mproto\u001b[0m\u001b[1;33m,\u001b[0m \u001b[0mcanonname\u001b[0m\u001b[1;33m,\u001b[0m \u001b[0msa\u001b[0m \u001b[1;33m=\u001b[0m \u001b[0mres\u001b[0m\u001b[1;33m\u001b[0m\u001b[0m\n",
      "\u001b[1;32m~\\AppData\\Local\\Continuum\\anaconda3\\lib\\socket.py\u001b[0m in \u001b[0;36mgetaddrinfo\u001b[1;34m(host, port, family, type, proto, flags)\u001b[0m\n\u001b[0;32m    747\u001b[0m     \u001b[0maddrlist\u001b[0m \u001b[1;33m=\u001b[0m \u001b[1;33m[\u001b[0m\u001b[1;33m]\u001b[0m\u001b[1;33m\u001b[0m\u001b[0m\n\u001b[1;32m--> 748\u001b[1;33m     \u001b[1;32mfor\u001b[0m \u001b[0mres\u001b[0m \u001b[1;32min\u001b[0m \u001b[0m_socket\u001b[0m\u001b[1;33m.\u001b[0m\u001b[0mgetaddrinfo\u001b[0m\u001b[1;33m(\u001b[0m\u001b[0mhost\u001b[0m\u001b[1;33m,\u001b[0m \u001b[0mport\u001b[0m\u001b[1;33m,\u001b[0m \u001b[0mfamily\u001b[0m\u001b[1;33m,\u001b[0m \u001b[0mtype\u001b[0m\u001b[1;33m,\u001b[0m \u001b[0mproto\u001b[0m\u001b[1;33m,\u001b[0m \u001b[0mflags\u001b[0m\u001b[1;33m)\u001b[0m\u001b[1;33m:\u001b[0m\u001b[1;33m\u001b[0m\u001b[0m\n\u001b[0m\u001b[0;32m    749\u001b[0m         \u001b[0maf\u001b[0m\u001b[1;33m,\u001b[0m \u001b[0msocktype\u001b[0m\u001b[1;33m,\u001b[0m \u001b[0mproto\u001b[0m\u001b[1;33m,\u001b[0m \u001b[0mcanonname\u001b[0m\u001b[1;33m,\u001b[0m \u001b[0msa\u001b[0m \u001b[1;33m=\u001b[0m \u001b[0mres\u001b[0m\u001b[1;33m\u001b[0m\u001b[0m\n",
      "\u001b[1;31mgaierror\u001b[0m: [Errno 11001] getaddrinfo failed",
      "\nDuring handling of the above exception, another exception occurred:\n",
      "\u001b[1;31mURLError\u001b[0m                                  Traceback (most recent call last)",
      "\u001b[1;32m<ipython-input-3-73f16ea33dd0>\u001b[0m in \u001b[0;36m<module>\u001b[1;34m\u001b[0m\n\u001b[1;32m----> 1\u001b[1;33m \u001b[0mcommissionsJSON\u001b[0m \u001b[1;33m=\u001b[0m \u001b[0murllib\u001b[0m\u001b[1;33m.\u001b[0m\u001b[0mrequest\u001b[0m\u001b[1;33m.\u001b[0m\u001b[0murlopen\u001b[0m\u001b[1;33m(\u001b[0m\u001b[0murlAPI\u001b[0m\u001b[1;33m)\u001b[0m\u001b[1;33m.\u001b[0m\u001b[0mread\u001b[0m\u001b[1;33m(\u001b[0m\u001b[1;33m)\u001b[0m\u001b[1;33m\u001b[0m\u001b[0m\n\u001b[0m",
      "\u001b[1;32m~\\AppData\\Local\\Continuum\\anaconda3\\lib\\urllib\\request.py\u001b[0m in \u001b[0;36murlopen\u001b[1;34m(url, data, timeout, cafile, capath, cadefault, context)\u001b[0m\n\u001b[0;32m    220\u001b[0m     \u001b[1;32melse\u001b[0m\u001b[1;33m:\u001b[0m\u001b[1;33m\u001b[0m\u001b[0m\n\u001b[0;32m    221\u001b[0m         \u001b[0mopener\u001b[0m \u001b[1;33m=\u001b[0m \u001b[0m_opener\u001b[0m\u001b[1;33m\u001b[0m\u001b[0m\n\u001b[1;32m--> 222\u001b[1;33m     \u001b[1;32mreturn\u001b[0m \u001b[0mopener\u001b[0m\u001b[1;33m.\u001b[0m\u001b[0mopen\u001b[0m\u001b[1;33m(\u001b[0m\u001b[0murl\u001b[0m\u001b[1;33m,\u001b[0m \u001b[0mdata\u001b[0m\u001b[1;33m,\u001b[0m \u001b[0mtimeout\u001b[0m\u001b[1;33m)\u001b[0m\u001b[1;33m\u001b[0m\u001b[0m\n\u001b[0m\u001b[0;32m    223\u001b[0m \u001b[1;33m\u001b[0m\u001b[0m\n\u001b[0;32m    224\u001b[0m \u001b[1;32mdef\u001b[0m \u001b[0minstall_opener\u001b[0m\u001b[1;33m(\u001b[0m\u001b[0mopener\u001b[0m\u001b[1;33m)\u001b[0m\u001b[1;33m:\u001b[0m\u001b[1;33m\u001b[0m\u001b[0m\n",
      "\u001b[1;32m~\\AppData\\Local\\Continuum\\anaconda3\\lib\\urllib\\request.py\u001b[0m in \u001b[0;36mopen\u001b[1;34m(self, fullurl, data, timeout)\u001b[0m\n\u001b[0;32m    523\u001b[0m             \u001b[0mreq\u001b[0m \u001b[1;33m=\u001b[0m \u001b[0mmeth\u001b[0m\u001b[1;33m(\u001b[0m\u001b[0mreq\u001b[0m\u001b[1;33m)\u001b[0m\u001b[1;33m\u001b[0m\u001b[0m\n\u001b[0;32m    524\u001b[0m \u001b[1;33m\u001b[0m\u001b[0m\n\u001b[1;32m--> 525\u001b[1;33m         \u001b[0mresponse\u001b[0m \u001b[1;33m=\u001b[0m \u001b[0mself\u001b[0m\u001b[1;33m.\u001b[0m\u001b[0m_open\u001b[0m\u001b[1;33m(\u001b[0m\u001b[0mreq\u001b[0m\u001b[1;33m,\u001b[0m \u001b[0mdata\u001b[0m\u001b[1;33m)\u001b[0m\u001b[1;33m\u001b[0m\u001b[0m\n\u001b[0m\u001b[0;32m    526\u001b[0m \u001b[1;33m\u001b[0m\u001b[0m\n\u001b[0;32m    527\u001b[0m         \u001b[1;31m# post-process response\u001b[0m\u001b[1;33m\u001b[0m\u001b[1;33m\u001b[0m\u001b[0m\n",
      "\u001b[1;32m~\\AppData\\Local\\Continuum\\anaconda3\\lib\\urllib\\request.py\u001b[0m in \u001b[0;36m_open\u001b[1;34m(self, req, data)\u001b[0m\n\u001b[0;32m    541\u001b[0m         \u001b[0mprotocol\u001b[0m \u001b[1;33m=\u001b[0m \u001b[0mreq\u001b[0m\u001b[1;33m.\u001b[0m\u001b[0mtype\u001b[0m\u001b[1;33m\u001b[0m\u001b[0m\n\u001b[0;32m    542\u001b[0m         result = self._call_chain(self.handle_open, protocol, protocol +\n\u001b[1;32m--> 543\u001b[1;33m                                   '_open', req)\n\u001b[0m\u001b[0;32m    544\u001b[0m         \u001b[1;32mif\u001b[0m \u001b[0mresult\u001b[0m\u001b[1;33m:\u001b[0m\u001b[1;33m\u001b[0m\u001b[0m\n\u001b[0;32m    545\u001b[0m             \u001b[1;32mreturn\u001b[0m \u001b[0mresult\u001b[0m\u001b[1;33m\u001b[0m\u001b[0m\n",
      "\u001b[1;32m~\\AppData\\Local\\Continuum\\anaconda3\\lib\\urllib\\request.py\u001b[0m in \u001b[0;36m_call_chain\u001b[1;34m(self, chain, kind, meth_name, *args)\u001b[0m\n\u001b[0;32m    501\u001b[0m         \u001b[1;32mfor\u001b[0m \u001b[0mhandler\u001b[0m \u001b[1;32min\u001b[0m \u001b[0mhandlers\u001b[0m\u001b[1;33m:\u001b[0m\u001b[1;33m\u001b[0m\u001b[0m\n\u001b[0;32m    502\u001b[0m             \u001b[0mfunc\u001b[0m \u001b[1;33m=\u001b[0m \u001b[0mgetattr\u001b[0m\u001b[1;33m(\u001b[0m\u001b[0mhandler\u001b[0m\u001b[1;33m,\u001b[0m \u001b[0mmeth_name\u001b[0m\u001b[1;33m)\u001b[0m\u001b[1;33m\u001b[0m\u001b[0m\n\u001b[1;32m--> 503\u001b[1;33m             \u001b[0mresult\u001b[0m \u001b[1;33m=\u001b[0m \u001b[0mfunc\u001b[0m\u001b[1;33m(\u001b[0m\u001b[1;33m*\u001b[0m\u001b[0margs\u001b[0m\u001b[1;33m)\u001b[0m\u001b[1;33m\u001b[0m\u001b[0m\n\u001b[0m\u001b[0;32m    504\u001b[0m             \u001b[1;32mif\u001b[0m \u001b[0mresult\u001b[0m \u001b[1;32mis\u001b[0m \u001b[1;32mnot\u001b[0m \u001b[1;32mNone\u001b[0m\u001b[1;33m:\u001b[0m\u001b[1;33m\u001b[0m\u001b[0m\n\u001b[0;32m    505\u001b[0m                 \u001b[1;32mreturn\u001b[0m \u001b[0mresult\u001b[0m\u001b[1;33m\u001b[0m\u001b[0m\n",
      "\u001b[1;32m~\\AppData\\Local\\Continuum\\anaconda3\\lib\\urllib\\request.py\u001b[0m in \u001b[0;36mhttps_open\u001b[1;34m(self, req)\u001b[0m\n\u001b[0;32m   1358\u001b[0m         \u001b[1;32mdef\u001b[0m \u001b[0mhttps_open\u001b[0m\u001b[1;33m(\u001b[0m\u001b[0mself\u001b[0m\u001b[1;33m,\u001b[0m \u001b[0mreq\u001b[0m\u001b[1;33m)\u001b[0m\u001b[1;33m:\u001b[0m\u001b[1;33m\u001b[0m\u001b[0m\n\u001b[0;32m   1359\u001b[0m             return self.do_open(http.client.HTTPSConnection, req,\n\u001b[1;32m-> 1360\u001b[1;33m                 context=self._context, check_hostname=self._check_hostname)\n\u001b[0m\u001b[0;32m   1361\u001b[0m \u001b[1;33m\u001b[0m\u001b[0m\n\u001b[0;32m   1362\u001b[0m         \u001b[0mhttps_request\u001b[0m \u001b[1;33m=\u001b[0m \u001b[0mAbstractHTTPHandler\u001b[0m\u001b[1;33m.\u001b[0m\u001b[0mdo_request_\u001b[0m\u001b[1;33m\u001b[0m\u001b[0m\n",
      "\u001b[1;32m~\\AppData\\Local\\Continuum\\anaconda3\\lib\\urllib\\request.py\u001b[0m in \u001b[0;36mdo_open\u001b[1;34m(self, http_class, req, **http_conn_args)\u001b[0m\n\u001b[0;32m   1317\u001b[0m                           encode_chunked=req.has_header('Transfer-encoding'))\n\u001b[0;32m   1318\u001b[0m             \u001b[1;32mexcept\u001b[0m \u001b[0mOSError\u001b[0m \u001b[1;32mas\u001b[0m \u001b[0merr\u001b[0m\u001b[1;33m:\u001b[0m \u001b[1;31m# timeout error\u001b[0m\u001b[1;33m\u001b[0m\u001b[0m\n\u001b[1;32m-> 1319\u001b[1;33m                 \u001b[1;32mraise\u001b[0m \u001b[0mURLError\u001b[0m\u001b[1;33m(\u001b[0m\u001b[0merr\u001b[0m\u001b[1;33m)\u001b[0m\u001b[1;33m\u001b[0m\u001b[0m\n\u001b[0m\u001b[0;32m   1320\u001b[0m             \u001b[0mr\u001b[0m \u001b[1;33m=\u001b[0m \u001b[0mh\u001b[0m\u001b[1;33m.\u001b[0m\u001b[0mgetresponse\u001b[0m\u001b[1;33m(\u001b[0m\u001b[1;33m)\u001b[0m\u001b[1;33m\u001b[0m\u001b[0m\n\u001b[0;32m   1321\u001b[0m         \u001b[1;32mexcept\u001b[0m\u001b[1;33m:\u001b[0m\u001b[1;33m\u001b[0m\u001b[0m\n",
      "\u001b[1;31mURLError\u001b[0m: <urlopen error [Errno 11001] getaddrinfo failed>"
     ]
    }
   ],
   "source": [
    "commissionsJSON = urllib.request.urlopen(urlAPI).read()"
   ]
  },
  {
   "cell_type": "code",
   "execution_count": 6,
   "metadata": {},
   "outputs": [],
   "source": [
    "commissions=json.loads(commissionsJSON)['organismes']"
   ]
  },
  {
   "cell_type": "code",
   "execution_count": 12,
   "metadata": {},
   "outputs": [
    {
     "data": {
      "text/plain": [
       "[{'organisme': {'id': 59,\n",
       "   'slug': 'bureau-du-senat',\n",
       "   'nom': 'Bureau du Sénat',\n",
       "   'type': 'parlementaire',\n",
       "   'url_nossenateurs': 'http://www.nossenateurs.fr/organisme/bureau-du-senat',\n",
       "   'url_nossenateurs_api': 'http://www.nossenateurs.fr/organisme/bureau-du-senat/json'}},\n",
       " {'organisme': {'id': 189,\n",
       "   'slug': 'comite-de-deontologie-parlementaire-du-senat',\n",
       "   'nom': 'Comité de déontologie parlementaire du Sénat',\n",
       "   'type': 'parlementaire',\n",
       "   'url_nossenateurs': 'http://www.nossenateurs.fr/organisme/comite-de-deontologie-parlementaire-du-senat',\n",
       "   'url_nossenateurs_api': 'http://www.nossenateurs.fr/organisme/comite-de-deontologie-parlementaire-du-senat/json'}},\n",
       " {'organisme': {'id': 738,\n",
       "   'slug': 'commission-de-l-amenagement-du-territoire-et-du-developpement-durable',\n",
       "   'nom': \"Commission de l'aménagement du territoire et du développement durable\",\n",
       "   'type': 'parlementaire',\n",
       "   'url_nossenateurs': 'http://www.nossenateurs.fr/organisme/commission-de-l-amenagement-du-territoire-et-du-developpement-durable',\n",
       "   'url_nossenateurs_api': 'http://www.nossenateurs.fr/organisme/commission-de-l-amenagement-du-territoire-et-du-developpement-durable/json'}},\n",
       " {'organisme': {'id': 2,\n",
       "   'slug': 'commission-de-la-culture-de-l-education-et-de-la-communication',\n",
       "   'nom': \"Commission de la culture, de l'éducation et de la communication\",\n",
       "   'type': 'parlementaire',\n",
       "   'url_nossenateurs': 'http://www.nossenateurs.fr/organisme/commission-de-la-culture-de-l-education-et-de-la-communication',\n",
       "   'url_nossenateurs_api': 'http://www.nossenateurs.fr/organisme/commission-de-la-culture-de-l-education-et-de-la-communication/json'}},\n",
       " {'organisme': {'id': 330,\n",
       "   'slug': 'commission-des-affaires-economiques',\n",
       "   'nom': 'Commission des affaires économiques',\n",
       "   'type': 'parlementaire',\n",
       "   'url_nossenateurs': 'http://www.nossenateurs.fr/organisme/commission-des-affaires-economiques',\n",
       "   'url_nossenateurs_api': 'http://www.nossenateurs.fr/organisme/commission-des-affaires-economiques/json'}},\n",
       " {'organisme': {'id': 20,\n",
       "   'slug': 'commission-des-affaires-etrangeres-de-la-defense-et-des-forces-armees',\n",
       "   'nom': 'Commission des affaires étrangères, de la défense et des forces armées',\n",
       "   'type': 'parlementaire',\n",
       "   'url_nossenateurs': 'http://www.nossenateurs.fr/organisme/commission-des-affaires-etrangeres-de-la-defense-et-des-forces-armees',\n",
       "   'url_nossenateurs_api': 'http://www.nossenateurs.fr/organisme/commission-des-affaires-etrangeres-de-la-defense-et-des-forces-armees/json'}},\n",
       " {'organisme': {'id': 36,\n",
       "   'slug': 'commission-des-affaires-europeennes',\n",
       "   'nom': 'Commission des affaires européennes',\n",
       "   'type': 'parlementaire',\n",
       "   'url_nossenateurs': 'http://www.nossenateurs.fr/organisme/commission-des-affaires-europeennes',\n",
       "   'url_nossenateurs_api': 'http://www.nossenateurs.fr/organisme/commission-des-affaires-europeennes/json'}},\n",
       " {'organisme': {'id': 27,\n",
       "   'slug': 'commission-des-affaires-sociales',\n",
       "   'nom': 'Commission des affaires sociales',\n",
       "   'type': 'parlementaire',\n",
       "   'url_nossenateurs': 'http://www.nossenateurs.fr/organisme/commission-des-affaires-sociales',\n",
       "   'url_nossenateurs_api': 'http://www.nossenateurs.fr/organisme/commission-des-affaires-sociales/json'}},\n",
       " {'organisme': {'id': 371,\n",
       "   'slug': 'commission-des-finances-du-controle-budgetaire-et-des-comptes-economiques-de-la-nation',\n",
       "   'nom': 'Commission des finances, du contrôle budgétaire et des comptes économiques de la nation',\n",
       "   'type': 'parlementaire',\n",
       "   'url_nossenateurs': 'http://www.nossenateurs.fr/organisme/commission-des-finances-du-controle-budgetaire-et-des-comptes-economiques-de-la-nation',\n",
       "   'url_nossenateurs_api': 'http://www.nossenateurs.fr/organisme/commission-des-finances-du-controle-budgetaire-et-des-comptes-economiques-de-la-nation/json'}},\n",
       " {'organisme': {'id': 9,\n",
       "   'slug': 'commission-des-lois-constitutionnelles-de-legislation-du-suffrage-universel-du-reglement-et-d-administration-generale',\n",
       "   'nom': \"Commission des lois constitutionnelles, de législation, du suffrage universel, du Règlement et d'administration générale\",\n",
       "   'type': 'parlementaire',\n",
       "   'url_nossenateurs': 'http://www.nossenateurs.fr/organisme/commission-des-lois-constitutionnelles-de-legislation-du-suffrage-universel-du-reglement-et-d-administration-generale',\n",
       "   'url_nossenateurs_api': 'http://www.nossenateurs.fr/organisme/commission-des-lois-constitutionnelles-de-legislation-du-suffrage-universel-du-reglement-et-d-administration-generale/json'}},\n",
       " {'organisme': {'id': 486,\n",
       "   'slug': 'commission-du-developpement-durable-des-infrastructures-de-l-equipement-et-de-l-amenagement-du-territoire',\n",
       "   'nom': \"Commission du développement durable, des infrastructures, de l'équipement et de l'aménagement du territoire\",\n",
       "   'type': 'parlementaire',\n",
       "   'url_nossenateurs': 'http://www.nossenateurs.fr/organisme/commission-du-developpement-durable-des-infrastructures-de-l-equipement-et-de-l-amenagement-du-territoire',\n",
       "   'url_nossenateurs_api': 'http://www.nossenateurs.fr/organisme/commission-du-developpement-durable-des-infrastructures-de-l-equipement-et-de-l-amenagement-du-territoire/json'}},\n",
       " {'organisme': {'id': 413,\n",
       "   'slug': 'commission-senatoriale-pour-le-controle-de-l-application-des-lois',\n",
       "   'nom': \"Commission sénatoriale pour le contrôle de l'application des lois\",\n",
       "   'type': 'parlementaire',\n",
       "   'url_nossenateurs': 'http://www.nossenateurs.fr/organisme/commission-senatoriale-pour-le-controle-de-l-application-des-lois',\n",
       "   'url_nossenateurs_api': 'http://www.nossenateurs.fr/organisme/commission-senatoriale-pour-le-controle-de-l-application-des-lois/json'}},\n",
       " {'organisme': {'id': 19,\n",
       "   'slug': 'delegation-aux-droits-des-femmes-et-a-l-egalite-des-chances-entre-les-hommes-et-les-femmes',\n",
       "   'nom': \"Délégation aux droits des femmes et à l'égalité des chances entre les hommes et les femmes\",\n",
       "   'type': 'parlementaire',\n",
       "   'url_nossenateurs': 'http://www.nossenateurs.fr/organisme/delegation-aux-droits-des-femmes-et-a-l-egalite-des-chances-entre-les-hommes-et-les-femmes',\n",
       "   'url_nossenateurs_api': 'http://www.nossenateurs.fr/organisme/delegation-aux-droits-des-femmes-et-a-l-egalite-des-chances-entre-les-hommes-et-les-femmes/json'}},\n",
       " {'organisme': {'id': 184,\n",
       "   'slug': 'delegation-parlementaire-au-renseignement',\n",
       "   'nom': 'Délégation parlementaire au renseignement',\n",
       "   'type': 'parlementaire',\n",
       "   'url_nossenateurs': 'http://www.nossenateurs.fr/organisme/delegation-parlementaire-au-renseignement',\n",
       "   'url_nossenateurs_api': 'http://www.nossenateurs.fr/organisme/delegation-parlementaire-au-renseignement/json'}},\n",
       " {'organisme': {'id': 322,\n",
       "   'slug': 'delegation-senatoriale-a-l-outre-mer',\n",
       "   'nom': \"Délégation sénatoriale à l'Outre-mer\",\n",
       "   'type': 'parlementaire',\n",
       "   'url_nossenateurs': 'http://www.nossenateurs.fr/organisme/delegation-senatoriale-a-l-outre-mer',\n",
       "   'url_nossenateurs_api': 'http://www.nossenateurs.fr/organisme/delegation-senatoriale-a-l-outre-mer/json'}},\n",
       " {'organisme': {'id': 50,\n",
       "   'slug': 'delegation-senatoriale-a-la-prospective',\n",
       "   'nom': 'Délégation sénatoriale à la prospective',\n",
       "   'type': 'parlementaire',\n",
       "   'url_nossenateurs': 'http://www.nossenateurs.fr/organisme/delegation-senatoriale-a-la-prospective',\n",
       "   'url_nossenateurs_api': 'http://www.nossenateurs.fr/organisme/delegation-senatoriale-a-la-prospective/json'}},\n",
       " {'organisme': {'id': 26,\n",
       "   'slug': 'delegation-senatoriale-aux-collectivites-territoriales-et-a-la-decentralisation',\n",
       "   'nom': 'Délégation sénatoriale aux collectivités territoriales et à la décentralisation',\n",
       "   'type': 'parlementaire',\n",
       "   'url_nossenateurs': 'http://www.nossenateurs.fr/organisme/delegation-senatoriale-aux-collectivites-territoriales-et-a-la-decentralisation',\n",
       "   'url_nossenateurs_api': 'http://www.nossenateurs.fr/organisme/delegation-senatoriale-aux-collectivites-territoriales-et-a-la-decentralisation/json'}},\n",
       " {'organisme': {'id': 662,\n",
       "   'slug': 'delegation-senatoriale-aux-entreprises',\n",
       "   'nom': 'Délégation sénatoriale aux entreprises',\n",
       "   'type': 'parlementaire',\n",
       "   'url_nossenateurs': 'http://www.nossenateurs.fr/organisme/delegation-senatoriale-aux-entreprises',\n",
       "   'url_nossenateurs_api': 'http://www.nossenateurs.fr/organisme/delegation-senatoriale-aux-entreprises/json'}},\n",
       " {'organisme': {'id': 839,\n",
       "   'slug': 'delegation-senatoriale-aux-outre-mer',\n",
       "   'nom': 'Délégation sénatoriale aux outre-mer',\n",
       "   'type': 'parlementaire',\n",
       "   'url_nossenateurs': 'http://www.nossenateurs.fr/organisme/delegation-senatoriale-aux-outre-mer',\n",
       "   'url_nossenateurs_api': 'http://www.nossenateurs.fr/organisme/delegation-senatoriale-aux-outre-mer/json'}},\n",
       " {'organisme': {'id': 1056,\n",
       "   'slug': 'groupe-de-suivi-sur-le-retrait-du-royaume-uni-et-la-refondation-de-l-union-europeenne',\n",
       "   'nom': \"Groupe de suivi sur le retrait du Royaume-Uni et la refondation de l'Union européenne\",\n",
       "   'type': 'parlementaire',\n",
       "   'url_nossenateurs': 'http://www.nossenateurs.fr/organisme/groupe-de-suivi-sur-le-retrait-du-royaume-uni-et-la-refondation-de-l-union-europeenne',\n",
       "   'url_nossenateurs_api': 'http://www.nossenateurs.fr/organisme/groupe-de-suivi-sur-le-retrait-du-royaume-uni-et-la-refondation-de-l-union-europeenne/json'}},\n",
       " {'organisme': {'id': 113,\n",
       "   'slug': 'mission-d-evaluation-et-de-controle-de-la-securite-sociale',\n",
       "   'nom': \"Mission d'évaluation et de contrôle de la sécurité sociale\",\n",
       "   'type': 'parlementaire',\n",
       "   'url_nossenateurs': 'http://www.nossenateurs.fr/organisme/mission-d-evaluation-et-de-controle-de-la-securite-sociale',\n",
       "   'url_nossenateurs_api': 'http://www.nossenateurs.fr/organisme/mission-d-evaluation-et-de-controle-de-la-securite-sociale/json'}},\n",
       " {'organisme': {'id': 672,\n",
       "   'slug': 'mission-temporaire-aupres-de-la-ministre-de-la-decentralisation-et-de-la-fonction-publique-et-du-secretaire-d-etat-aupres-de-la-ministre-de-la-decentralisation-et-de-la-fonction-publique-charge-de-la-reforme-territoriale-et-du-secretaire-d-etat-aupres-d-1',\n",
       "   'nom': \"Mission temporaire auprès de la Ministre de la décentralisation et de la fonction publique et du Secrétaire d'État auprès de la ministre de la décentralisation et de la fonction publique, chargé de la réforme territoriale et du Secrétaire d'État auprès du ministre des finances et des comptes publics, chargé du budget\",\n",
       "   'type': 'parlementaire',\n",
       "   'url_nossenateurs': 'http://www.nossenateurs.fr/organisme/mission-temporaire-aupres-de-la-ministre-de-la-decentralisation-et-de-la-fonction-publique-et-du-secretaire-d-etat-aupres-de-la-ministre-de-la-decentralisation-et-de-la-fonction-publique-charge-de-la-reforme-territoriale-et-du-secretaire-d-etat-aupres-d-1',\n",
       "   'url_nossenateurs_api': 'http://www.nossenateurs.fr/organisme/mission-temporaire-aupres-de-la-ministre-de-la-decentralisation-et-de-la-fonction-publique-et-du-secretaire-d-etat-aupres-de-la-ministre-de-la-decentralisation-et-de-la-fonction-publique-charge-de-la-reforme-territoriale-et-du-secretaire-d-etat-aupres-d-1/json'}},\n",
       " {'organisme': {'id': 1092,\n",
       "   'slug': 'mission-temporaire-aupres-de-la-ministre-des-outre-mer-et-de-la-ministre-de-la-cohesion-des-territoires-et-des-relations-avec-les-collectivites-territoriales',\n",
       "   'nom': 'Mission temporaire auprès de la ministre des outre-mer et de la ministre de la cohésion des territoires et des relations avec les collectivités territoriales',\n",
       "   'type': 'parlementaire',\n",
       "   'url_nossenateurs': 'http://www.nossenateurs.fr/organisme/mission-temporaire-aupres-de-la-ministre-des-outre-mer-et-de-la-ministre-de-la-cohesion-des-territoires-et-des-relations-avec-les-collectivites-territoriales',\n",
       "   'url_nossenateurs_api': 'http://www.nossenateurs.fr/organisme/mission-temporaire-aupres-de-la-ministre-des-outre-mer-et-de-la-ministre-de-la-cohesion-des-territoires-et-des-relations-avec-les-collectivites-territoriales/json'}},\n",
       " {'organisme': {'id': 806,\n",
       "   'slug': 'mission-temporaire-aupres-du-secretaire-d-etat-aupres-de-la-ministre-de-l-environnement-de-l-energie-et-de-la-mer-chargee-des-relations-internationales-sur-le-climat-charge-des-transports-de-la-mer-et-de-la-peche',\n",
       "   'nom': \"Mission temporaire auprès du secrétaire d'État auprès de la ministre de l'environnement, de l'énergie et de la mer, chargée des relations internationales sur le climat, chargé des transports, de la mer et de la pêche\",\n",
       "   'type': 'parlementaire',\n",
       "   'url_nossenateurs': 'http://www.nossenateurs.fr/organisme/mission-temporaire-aupres-du-secretaire-d-etat-aupres-de-la-ministre-de-l-environnement-de-l-energie-et-de-la-mer-chargee-des-relations-internationales-sur-le-climat-charge-des-transports-de-la-mer-et-de-la-peche',\n",
       "   'url_nossenateurs_api': 'http://www.nossenateurs.fr/organisme/mission-temporaire-aupres-du-secretaire-d-etat-aupres-de-la-ministre-de-l-environnement-de-l-energie-et-de-la-mer-chargee-des-relations-internationales-sur-le-climat-charge-des-transports-de-la-mer-et-de-la-peche/json'}},\n",
       " {'organisme': {'id': 112,\n",
       "   'slug': 'office-parlementaire-d-evaluation-des-choix-scientifiques-et-technologiques',\n",
       "   'nom': \"Office parlementaire d'évaluation des choix scientifiques et technologiques\",\n",
       "   'type': 'parlementaire',\n",
       "   'url_nossenateurs': 'http://www.nossenateurs.fr/organisme/office-parlementaire-d-evaluation-des-choix-scientifiques-et-technologiques',\n",
       "   'url_nossenateurs_api': 'http://www.nossenateurs.fr/organisme/office-parlementaire-d-evaluation-des-choix-scientifiques-et-technologiques/json'}},\n",
       " {'organisme': {'id': 874,\n",
       "   'slug': 'bureau-du-senat-1',\n",
       "   'nom': 'Bureau du Sénat',\n",
       "   'type': 'parlementaire',\n",
       "   'url_nossenateurs': 'http://www.nossenateurs.fr/organisme/bureau-du-senat-1',\n",
       "   'url_nossenateurs_api': 'http://www.nossenateurs.fr/organisme/bureau-du-senat-1/json'}}]"
      ]
     },
     "execution_count": 12,
     "metadata": {},
     "output_type": "execute_result"
    }
   ],
   "source": [
    "commissions"
   ]
  },
  {
   "cell_type": "markdown",
   "metadata": {},
   "source": [
    "Combien y a-t-il de commissions ?"
   ]
  },
  {
   "cell_type": "code",
   "execution_count": 4,
   "metadata": {},
   "outputs": [
    {
     "ename": "NameError",
     "evalue": "name 'commissions' is not defined",
     "output_type": "error",
     "traceback": [
      "\u001b[1;31m---------------------------------------------------------------------------\u001b[0m",
      "\u001b[1;31mNameError\u001b[0m                                 Traceback (most recent call last)",
      "\u001b[1;32m<ipython-input-4-deaa597fe962>\u001b[0m in \u001b[0;36m<module>\u001b[1;34m\u001b[0m\n\u001b[1;32m----> 1\u001b[1;33m \u001b[0mlen\u001b[0m\u001b[1;33m(\u001b[0m\u001b[0mcommissions\u001b[0m\u001b[1;33m)\u001b[0m\u001b[1;33m\u001b[0m\u001b[0m\n\u001b[0m",
      "\u001b[1;31mNameError\u001b[0m: name 'commissions' is not defined"
     ]
    }
   ],
   "source": [
    "len(commissions)"
   ]
  },
  {
   "cell_type": "markdown",
   "metadata": {},
   "source": [
    "## Construction du réseau"
   ]
  },
  {
   "cell_type": "code",
   "execution_count": 14,
   "metadata": {},
   "outputs": [],
   "source": [
    "net=nx.Graph()"
   ]
  },
  {
   "cell_type": "code",
   "execution_count": 16,
   "metadata": {},
   "outputs": [],
   "source": [
    "for commission in commissions:    \n",
    "    membresJSON =  urllib.request.urlopen(commission['organisme']['url_nossenateurs_api']).read()\n",
    "    membres=json.loads(membresJSON)['senateurs']\n",
    "    for i in range(len(membres)):\n",
    "        net.add_node(membres[i]['senateur']['slug'], groupe=membres[i]['senateur']['groupe_sigle'])\n",
    "    for i in range(len(membres)-1):\n",
    "        for j in range(i+1, len(membres)):\n",
    "            net.add_edge(membres[i]['senateur']['slug'], membres[j]['senateur']['slug'])"
   ]
  },
  {
   "cell_type": "markdown",
   "metadata": {},
   "source": [
    "# Analyses"
   ]
  },
  {
   "cell_type": "markdown",
   "metadata": {},
   "source": [
    "## Composantes connexes "
   ]
  },
  {
   "cell_type": "code",
   "execution_count": 17,
   "metadata": {},
   "outputs": [
    {
     "data": {
      "text/plain": [
       "True"
      ]
     },
     "execution_count": 17,
     "metadata": {},
     "output_type": "execute_result"
    }
   ],
   "source": [
    "nx.components.connected.is_connected(net)"
   ]
  },
  {
   "cell_type": "markdown",
   "metadata": {},
   "source": [
    "## Nombre d'arrêtes"
   ]
  },
  {
   "cell_type": "code",
   "execution_count": 19,
   "metadata": {},
   "outputs": [
    {
     "data": {
      "text/plain": [
       "34743"
      ]
     },
     "execution_count": 19,
     "metadata": {},
     "output_type": "execute_result"
    }
   ],
   "source": [
    "len(net.edges)"
   ]
  },
  {
   "cell_type": "markdown",
   "metadata": {},
   "source": [
    "Quelle est la densité du réseau ?"
   ]
  },
  {
   "cell_type": "markdown",
   "metadata": {},
   "source": [
    "## Clustering"
   ]
  },
  {
   "cell_type": "code",
   "execution_count": 20,
   "metadata": {},
   "outputs": [
    {
     "data": {
      "text/plain": [
       "0.7493227653396439"
      ]
     },
     "execution_count": 20,
     "metadata": {},
     "output_type": "execute_result"
    }
   ],
   "source": [
    "nx.algorithms.average_clustering(net)"
   ]
  },
  {
   "cell_type": "markdown",
   "metadata": {},
   "source": [
    "Quel serait le coefficient de clustering d'un graph aléatoire ayant le meme nombre de noeuds et d'arrêtes ?"
   ]
  },
  {
   "cell_type": "markdown",
   "metadata": {},
   "source": [
    "## Longueur caractéristique"
   ]
  },
  {
   "cell_type": "code",
   "execution_count": 21,
   "metadata": {},
   "outputs": [
    {
     "data": {
      "text/plain": [
       "1.943786570820363"
      ]
     },
     "execution_count": 21,
     "metadata": {},
     "output_type": "execute_result"
    }
   ],
   "source": [
    "nx.average_shortest_path_length(net)"
   ]
  },
  {
   "cell_type": "markdown",
   "metadata": {},
   "source": [
    "## Distribution de degrés"
   ]
  },
  {
   "cell_type": "markdown",
   "metadata": {},
   "source": [
    "Que fait le programme ce dessous ?"
   ]
  },
  {
   "cell_type": "code",
   "execution_count": 22,
   "metadata": {},
   "outputs": [],
   "source": [
    "plusPetitDegré=100000\n",
    "for senateur,degré in nx.degree(net):\n",
    "    if degré < plusPetitDegré:\n",
    "        senateurAvecLePlusPetitDegré=senateur\n",
    "        plusPetitDegré=degré"
   ]
  },
  {
   "cell_type": "markdown",
   "metadata": {},
   "source": [
    "Ecrire un programme qui trouve le parlementaire avec le plus grand degré"
   ]
  },
  {
   "cell_type": "code",
   "execution_count": 23,
   "metadata": {},
   "outputs": [],
   "source": [
    "degrés=[]\n",
    "for senateur,degré in nx.degree(net):\n",
    "    degrés.append(degré)"
   ]
  },
  {
   "cell_type": "code",
   "execution_count": 24,
   "metadata": {},
   "outputs": [
    {
     "data": {
      "image/png": "[encoded data removed]",
      "text/plain": [
       "<Figure size 1152x576 with 1 Axes>"
      ]
     },
     "metadata": {
      "needs_background": "light"
     },
     "output_type": "display_data"
    }
   ],
   "source": [
    "plt.figure(figsize=(16,8))\n",
    "plt.hist(degrés);"
   ]
  },
  {
   "cell_type": "markdown",
   "metadata": {},
   "source": [
    "# Sauvegarde du réseau"
   ]
  },
  {
   "cell_type": "code",
   "execution_count": 25,
   "metadata": {},
   "outputs": [],
   "source": [
    "nx.write_gexf(net, \"senateurs.gexf\")"
   ]
  },
  {
   "cell_type": "markdown",
   "metadata": {},
   "source": [
    "On peut à présent ouvrir le réseau dans Gephi"
   ]
  }
 ],
 "metadata": {
  "kernelspec": {
   "display_name": "Python 3",
   "language": "python",
   "name": "python3"
  },
  "language_info": {
   "codemirror_mode": {
    "name": "ipython",
    "version": 3
   },
   "file_extension": ".py",
   "mimetype": "text/x-python",
   "name": "python",
   "nbconvert_exporter": "python",
   "pygments_lexer": "ipython3",
   "version": "3.7.0"
  }
 },
 "nbformat": 4,
 "nbformat_minor": 4
}
